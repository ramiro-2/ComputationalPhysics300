{
 "cells": [
  {
   "cell_type": "code",
   "execution_count": 1,
   "metadata": {
    "scrolled": true
   },
   "outputs": [],
   "source": [
    "from sklearn.datasets import load_iris\n",
    "import numpy as np\n",
    "from collections import OrderedDict\n",
    "import pandas as pd"
   ]
  },
  {
   "cell_type": "code",
   "execution_count": 2,
   "metadata": {},
   "outputs": [
    {
     "data": {
      "text/html": [
       "<div>\n",
       "<style scoped>\n",
       "    .dataframe tbody tr th:only-of-type {\n",
       "        vertical-align: middle;\n",
       "    }\n",
       "\n",
       "    .dataframe tbody tr th {\n",
       "        vertical-align: top;\n",
       "    }\n",
       "\n",
       "    .dataframe thead th {\n",
       "        text-align: right;\n",
       "    }\n",
       "</style>\n",
       "<table border=\"1\" class=\"dataframe\">\n",
       "  <thead>\n",
       "    <tr style=\"text-align: right;\">\n",
       "      <th></th>\n",
       "      <th>Selection Rule</th>\n",
       "      <th>Setosa</th>\n",
       "      <th>Versicolor</th>\n",
       "      <th>Virginica</th>\n",
       "    </tr>\n",
       "  </thead>\n",
       "  <tbody>\n",
       "    <tr>\n",
       "      <th>0</th>\n",
       "      <td>Sepal Length</td>\n",
       "      <td>0 (0.0%)</td>\n",
       "      <td>26 (17.3%)</td>\n",
       "      <td>44 (29.3%)</td>\n",
       "    </tr>\n",
       "    <tr>\n",
       "      <th>1</th>\n",
       "      <td>Sepal Width</td>\n",
       "      <td>42 (28.0%)</td>\n",
       "      <td>8 (5.3%)</td>\n",
       "      <td>17 (11.3%)</td>\n",
       "    </tr>\n",
       "    <tr>\n",
       "      <th>2</th>\n",
       "      <td>Petal Length</td>\n",
       "      <td>0 (0.0%)</td>\n",
       "      <td>43 (28.7%)</td>\n",
       "      <td>50 (33.3%)</td>\n",
       "    </tr>\n",
       "    <tr>\n",
       "      <th>3</th>\n",
       "      <td>Petal Width</td>\n",
       "      <td>0 (0.0%)</td>\n",
       "      <td>40 (26.7%)</td>\n",
       "      <td>50 (33.3%)</td>\n",
       "    </tr>\n",
       "  </tbody>\n",
       "</table>\n",
       "</div>"
      ],
      "text/plain": [
       "  Selection Rule       Setosa  Versicolor   Virginica\n",
       "0    Sepal Length    0 (0.0%)  26 (17.3%)  44 (29.3%)\n",
       "1     Sepal Width  42 (28.0%)    8 (5.3%)  17 (11.3%)\n",
       "2    Petal Length    0 (0.0%)  43 (28.7%)  50 (33.3%)\n",
       "3     Petal Width    0 (0.0%)  40 (26.7%)  50 (33.3%)"
      ]
     },
     "execution_count": 2,
     "metadata": {},
     "output_type": "execute_result"
    }
   ],
   "source": [
    "dataset=load_iris()\n",
    "X=dataset.data\n",
    "Y=dataset.target\n",
    "X0=(np.array( X[:,0] > X[:,0].mean(), dtype = 'int')).reshape(150,1)\n",
    "X1=(np.array( X[:,1] > X[:,1].mean(), dtype = 'int')).reshape(150,1)\n",
    "X2=(np.array( X[:,2] > X[:,2].mean(), dtype = 'int')).reshape(150,1)\n",
    "X3=(np.array( X[:,3] > X[:,3].mean(), dtype = 'int')).reshape(150,1)\n",
    "Y=Y.reshape(150,1)\n",
    "D=np.hstack([X0,X1,X2,X3,Y])\n",
    "G=[]\n",
    "C=[]\n",
    "P=[]\n",
    "for i in range(4):\n",
    "    for j in range(3):\n",
    "        #print(i)\n",
    "        #print(j)\n",
    "        logic = np.logical_and(D[:,i]==1,D[:,4] == j)\n",
    "        #print(logic)   \n",
    "        #print(D[logic])\n",
    "        C.append(len(D[logic]))\n",
    "        P.append(round((len(D[logic])/150*100),1))\n",
    "        #print(report)\n",
    "C=np.array(C)\n",
    "C=C.reshape(4,3)\n",
    "P=(np.array(P)).reshape(4,3)\n",
    "for i in range (4):\n",
    "    for j in range (3):\n",
    "        a=C[i,j]\n",
    "        b=P[i,j]\n",
    "        A=str(a) + ' ' + '(' + str(b) +'%)'\n",
    "        G.append(A)\n",
    "G=(np.array(G)).reshape(4,3)\n",
    "Iris_data_d = OrderedDict({'Selection Rule ': ['Sepal Length','Sepal Width','Petal Length','Petal Width'],\n",
    "                          'Setosa':G[:,0],\n",
    "                          'Versicolor':G[:,1],\n",
    "                          'Virginica':G[:,2]})\n",
    "pd.DataFrame(Iris_data_d)"
   ]
  }
 ],
 "metadata": {
  "kernelspec": {
   "display_name": "Python 3",
   "language": "python",
   "name": "python3"
  },
  "language_info": {
   "codemirror_mode": {
    "name": "ipython",
    "version": 3
   },
   "file_extension": ".py",
   "mimetype": "text/x-python",
   "name": "python",
   "nbconvert_exporter": "python",
   "pygments_lexer": "ipython3",
   "version": "3.8.3"
  }
 },
 "nbformat": 4,
 "nbformat_minor": 4
}
