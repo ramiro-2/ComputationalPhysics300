{
 "cells": [
  {
   "cell_type": "code",
   "execution_count": 1,
   "metadata": {},
   "outputs": [],
   "source": [
    "import matplotlib.pyplot as plt\n",
    "import numpy as np\n",
    "e=np.e\n",
    "V=1000*(1/100)**3\n",
    "rho=6.022*10**25\n",
    "k=1.38*10**-23\n",
    "thta=428\n",
    "G=9*V*rho*k\n",
    "Tmin=5\n",
    "Tmax=500\n",
    "dT=5\n",
    "parts=int((Tmax-Tmin)/dT)\n",
    "f = lambda x: x**4*e**x*(e**x-1)**-2\n",
    "C=[]"
   ]
  },
  {
   "cell_type": "code",
   "execution_count": 2,
   "metadata": {},
   "outputs": [],
   "source": [
    "def Simpson(start, end, parts, plot=1):\n",
    "    \"\"\"\n",
    "    Simpson sum rule for given function 'f'\n",
    "    \n",
    "    \"\"\"\n",
    " \n",
    "    \n",
    "    #define the X, Y points \n",
    "    deltax = (end - start) / parts\n",
    "    resultsx = np.linspace(start, end, parts+1)\n",
    "    resultsy = f(resultsx)\n",
    "    od=resultsy[1:-1:2]\n",
    "    ev=resultsy[2:-1:2]\n",
    "\n",
    "    # To calculate the area\n",
    "    area = resultsy[0]+4*sum(od)+2*sum(ev)+resultsy[-1]\n",
    "    area = area*(end-start)/(3*parts)    \n",
    "    return area"
   ]
  },
  {
   "cell_type": "code",
   "execution_count": 4,
   "metadata": {},
   "outputs": [],
   "source": [
    "for T in range(Tmin,Tmax+dT,dT):\n",
    "    N=thta/T\n",
    "    #print('T=',T,'N=',N)\n",
    "    I=Simpson(10**-15,N,1000)\n",
    "    #print('I=',I)\n",
    "    S=(T/thta)**3\n",
    "    #print('S=',S)\n",
    "    \n",
    "    C.append(I*G*S)"
   ]
  },
  {
   "cell_type": "code",
   "execution_count": 20,
   "metadata": {},
   "outputs": [
    {
     "data": {
      "text/plain": [
       "[<matplotlib.lines.Line2D at 0x254a90072e0>]"
      ]
     },
     "execution_count": 20,
     "metadata": {},
     "output_type": "execute_result"
    },
    {
     "data": {
      "image/png": "[encoded data removed]",
      "text/plain": [
       "<Figure size 432x288 with 1 Axes>"
      ]
     },
     "metadata": {
      "needs_background": "light"
     },
     "output_type": "display_data"
    }
   ],
   "source": [
    "T=np.linspace(Tmin,Tmax,parts+1)\n",
    "plt.grid(1)\n",
    "plt.xlabel('Temperature (K)')\n",
    "plt.ylabel('Specific Heat (J/kg*K)')\n",
    "plt.title('Specific Heat Vs Temperature')\n",
    "plt.plot(T,C)"
   ]
  },
  {
   "cell_type": "code",
   "execution_count": null,
   "metadata": {},
   "outputs": [],
   "source": []
  }
 ],
 "metadata": {
  "kernelspec": {
   "display_name": "Python 3",
   "language": "python",
   "name": "python3"
  },
  "language_info": {
   "codemirror_mode": {
    "name": "ipython",
    "version": 3
   },
   "file_extension": ".py",
   "mimetype": "text/x-python",
   "name": "python",
   "nbconvert_exporter": "python",
   "pygments_lexer": "ipython3",
   "version": "3.8.3"
  }
 },
 "nbformat": 4,
 "nbformat_minor": 4
}
