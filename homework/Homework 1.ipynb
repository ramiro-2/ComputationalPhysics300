{
 "cells": [
  {
   "cell_type": "markdown",
   "metadata": {},
   "source": [
    "Lecture 1 example:"
   ]
  },
  {
   "cell_type": "code",
   "execution_count": 1,
   "metadata": {},
   "outputs": [
    {
     "name": "stdout",
     "output_type": "stream",
     "text": [
      "The Lyman Series is: [121.5436037678517, 102.55241567912488, 97.23488301428137, 94.95594044363415, 93.76220862091418]\n",
      "The Belmer Series is: [656.3354603463993, 486.1744150714068, 434.084299170899, 410.2096627164995, 397.04243897498225]\n",
      "The Paschen Series is: [1875.2441724182836, 1281.9051959890612, 1093.8924339106654, 1005.013673655424, 954.6697605038536]\n",
      "All in nm\n"
     ]
    }
   ],
   "source": [
    "R = 1.097e-2\n",
    "lmda=[]\n",
    "for m in [1,2,3]:\n",
    "    #print(\"m=\",m)\n",
    "    for k in [1,2,3,4,5]:\n",
    "        n=m+k\n",
    "        #print(\"n=\",n)\n",
    "        invlambda = R*(1/m**2 - 1/n**2)\n",
    "        lmda.append(1/invlambda)\n",
    "l1=lmda[0:5]\n",
    "l2=lmda[5:10]\n",
    "l3=lmda[10:15]\n",
    "print(\"The Lyman Series is:\",l1)\n",
    "print(\"The Belmer Series is:\",l2)\n",
    "print(\"The Paschen Series is:\",l3)\n",
    "print(\"All in nm\")"
   ]
  },
  {
   "cell_type": "markdown",
   "metadata": {},
   "source": [
    "Lecture 2 Homework problem"
   ]
  },
  {
   "cell_type": "code",
   "execution_count": 13,
   "metadata": {},
   "outputs": [
    {
     "name": "stdout",
     "output_type": "stream",
     "text": [
      "How many Oscillators are there in your system? 10\n",
      "How many Energy Quanta are being distributed in your system? 50\n",
      "The Multiplicity of your system is:  12565671261\n"
     ]
    }
   ],
   "source": [
    "import math\n",
    "N=int(input(\"How many Oscillators are there in your system? \"))\n",
    "q=int(input(\"How many Energy Quanta are being distributed in your system? \"))\n",
    "a=q+N-1\n",
    "O=math.comb(a,q)\n",
    "print(\"The Multiplicity of your system is: \",O)"
   ]
  },
  {
   "cell_type": "code",
   "execution_count": null,
   "metadata": {},
   "outputs": [],
   "source": []
  }
 ],
 "metadata": {
  "kernelspec": {
   "display_name": "Python 3",
   "language": "python",
   "name": "python3"
  },
  "language_info": {
   "codemirror_mode": {
    "name": "ipython",
    "version": 3
   },
   "file_extension": ".py",
   "mimetype": "text/x-python",
   "name": "python",
   "nbconvert_exporter": "python",
   "pygments_lexer": "ipython3",
   "version": "3.8.3"
  }
 },
 "nbformat": 4,
 "nbformat_minor": 4
}
